{
 "cells": [
  {
   "cell_type": "markdown",
   "metadata": {},
   "source": [
    "HUMO-LUMO energy gap prediction using Graph Convolution from Deepchem graph convolution module   9/20/2020"
   ]
  },
  {
   "cell_type": "code",
   "execution_count": 16,
   "metadata": {},
   "outputs": [],
   "source": [
    "import numpy as np\n",
    "from deepchem.models import GraphConvModel\n",
    "import tensorflow as tf\n",
    "import deepchem as dc\n",
    "#from deepchem.molnet import load_delaney\n",
    "import sklearn\n",
    "from sklearn.metrics import r2_score\n",
    "import seaborn as sn\n",
    "import matplotlib.pyplot as plt\n",
    "import pandas as pd\n",
    "import matplotlib.patches as mpatches"
   ]
  },
  {
   "cell_type": "code",
   "execution_count": 2,
   "metadata": {},
   "outputs": [
    {
     "data": {
      "text/html": [
       "<div>\n",
       "<style scoped>\n",
       "    .dataframe tbody tr th:only-of-type {\n",
       "        vertical-align: middle;\n",
       "    }\n",
       "\n",
       "    .dataframe tbody tr th {\n",
       "        vertical-align: top;\n",
       "    }\n",
       "\n",
       "    .dataframe thead th {\n",
       "        text-align: right;\n",
       "    }\n",
       "</style>\n",
       "<table border=\"1\" class=\"dataframe\">\n",
       "  <thead>\n",
       "    <tr style=\"text-align: right;\">\n",
       "      <th></th>\n",
       "      <th>SMILES</th>\n",
       "      <th>Energygap</th>\n",
       "    </tr>\n",
       "  </thead>\n",
       "  <tbody>\n",
       "    <tr>\n",
       "      <th>0</th>\n",
       "      <td>Nc1ccc(cc1)C(F)(F)F</td>\n",
       "      <td>177.756984</td>\n",
       "    </tr>\n",
       "    <tr>\n",
       "      <th>1</th>\n",
       "      <td>CNC1CCCCC1</td>\n",
       "      <td>215.558754</td>\n",
       "    </tr>\n",
       "    <tr>\n",
       "      <th>2</th>\n",
       "      <td>C/C=C/C(C)C</td>\n",
       "      <td>220.858695</td>\n",
       "    </tr>\n",
       "    <tr>\n",
       "      <th>3</th>\n",
       "      <td>OC(=O)c1ccccc1c1ccccc1</td>\n",
       "      <td>168.397060</td>\n",
       "    </tr>\n",
       "    <tr>\n",
       "      <th>4</th>\n",
       "      <td>OC(=O)/C=C\\c1c[nH]c2ccccc12</td>\n",
       "      <td>144.475790</td>\n",
       "    </tr>\n",
       "  </tbody>\n",
       "</table>\n",
       "</div>"
      ],
      "text/plain": [
       "                        SMILES   Energygap\n",
       "0          Nc1ccc(cc1)C(F)(F)F  177.756984\n",
       "1                   CNC1CCCCC1  215.558754\n",
       "2                  C/C=C/C(C)C  220.858695\n",
       "3       OC(=O)c1ccccc1c1ccccc1  168.397060\n",
       "4  OC(=O)/C=C\\c1c[nH]c2ccccc12  144.475790"
      ]
     },
     "execution_count": 2,
     "metadata": {},
     "output_type": "execute_result"
    }
   ],
   "source": [
    "dataset = pd.read_excel('C:/Users/Gashaw/Documents/DataAndSoftware_S1-S4/Orbital_Energies_input_data.xlsx')\n",
    "dataset.head()"
   ]
  },
  {
   "cell_type": "code",
   "execution_count": 3,
   "metadata": {},
   "outputs": [],
   "source": [
    "  X, y  = dataset['SMILES'], dataset['Energygap']\n",
    "    "
   ]
  },
  {
   "cell_type": "code",
   "execution_count": 4,
   "metadata": {},
   "outputs": [
    {
     "data": {
      "text/plain": [
       "0       177.756984\n",
       "1       215.558754\n",
       "2       220.858695\n",
       "3       168.397060\n",
       "4       144.475790\n",
       "           ...    \n",
       "2899    217.786411\n",
       "2900    156.612441\n",
       "2901    220.300840\n",
       "2902    270.098071\n",
       "2903    177.377969\n",
       "Name: Energygap, Length: 2904, dtype: float64"
      ]
     },
     "execution_count": 4,
     "metadata": {},
     "output_type": "execute_result"
    }
   ],
   "source": [
    "y"
   ]
  },
  {
   "cell_type": "code",
   "execution_count": 5,
   "metadata": {},
   "outputs": [
    {
     "data": {
      "text/plain": [
       "0                       Nc1ccc(cc1)C(F)(F)F\n",
       "1                                CNC1CCCCC1\n",
       "2                               C/C=C/C(C)C\n",
       "3                    OC(=O)c1ccccc1c1ccccc1\n",
       "4               OC(=O)/C=C\\c1c[nH]c2ccccc12\n",
       "                       ...                 \n",
       "2899                              O=c1occo1\n",
       "2900                  OC(=O)Cc1cccc2ccccc12\n",
       "2901                  CC(=O)CC(=O)OC(C)(C)C\n",
       "2902    FC(F)(F)S(=O)(=O)OS(=O)(=O)C(F)(F)F\n",
       "2903                        COc1ccc(cc1)C#N\n",
       "Name: SMILES, Length: 2904, dtype: object"
      ]
     },
     "execution_count": 5,
     "metadata": {},
     "output_type": "execute_result"
    }
   ],
   "source": [
    "X"
   ]
  },
  {
   "cell_type": "code",
   "execution_count": 6,
   "metadata": {},
   "outputs": [],
   "source": [
    "dataset_file = \"C:/Users/Gashaw/Documents/DataAndSoftware_S1-S4/Orbital_Energies_input_data.csv\""
   ]
  },
  {
   "cell_type": "code",
   "execution_count": 7,
   "metadata": {},
   "outputs": [
    {
     "name": "stdout",
     "output_type": "stream",
     "text": [
      "Loading raw samples now.\n",
      "shard_size: 8192\n",
      "About to start loading CSV from C:/Users/Gashaw/Documents/DataAndSoftware_S1-S4/Orbital_Energies_input_data.csv\n",
      "Loading shard 1 of size 8192.\n",
      "Featurizing sample 0\n",
      "Featurizing sample 1000\n",
      "Featurizing sample 2000\n",
      "TIMING: featurizing shard 0 took 3.276 s\n",
      "TIMING: dataset construction took 3.979 s\n",
      "Loading dataset from disk.\n",
      "About to transform data\n",
      "TIMING: dataset construction took 1.048 s\n",
      "Loading dataset from disk.\n",
      "TIMING: dataset construction took 0.815 s\n",
      "Loading dataset from disk.\n",
      "TIMING: dataset construction took 0.444 s\n",
      "Loading dataset from disk.\n",
      "TIMING: dataset construction took 0.426 s\n",
      "Loading dataset from disk.\n"
     ]
    }
   ],
   "source": [
    "tasks = ['Energygap']\n",
    "featurizer = dc.feat.ConvMolFeaturizer()\n",
    "loader = dc.data.CSVLoader(\n",
    "tasks=tasks, smiles_field=\"SMILES\", featurizer=featurizer)\n",
    "dataset = loader.featurize(dataset_file, shard_size=8192)\n",
    "\n",
    "# Initialize transformers\n",
    "transformers = [\n",
    "dc.trans.NormalizationTransformer(\n",
    "  transform_y=True, dataset=dataset)\n",
    "]\n",
    "\n",
    "print(\"About to transform data\")\n",
    "for transformer in transformers:\n",
    "    dataset = transformer.transform(dataset)\n",
    "\n",
    "splitter = dc.splits.IndexSplitter()\n",
    "train_dataset, valid_dataset, test_dataset = splitter.train_valid_test_split(dataset)"
   ]
  },
  {
   "cell_type": "code",
   "execution_count": 8,
   "metadata": {},
   "outputs": [],
   "source": [
    "# Fit models\n",
    "metric = dc.metrics.Metric(dc.metrics.pearson_r2_score, np.mean)\n",
    "# Number of features on conv-mols\n",
    "n_feat = 75\n",
    "# Batch size of models\n",
    "batch_size = 128\n",
    "model = GraphConvModel(\n",
    "    len(tasks), batch_size=batch_size, mode='regression')"
   ]
  },
  {
   "cell_type": "code",
   "execution_count": 9,
   "metadata": {},
   "outputs": [
    {
     "name": "stdout",
     "output_type": "stream",
     "text": [
      "WARNING:tensorflow:From C:\\Users\\Gashaw\\anaconda3\\lib\\site-packages\\deepchem\\models\\tensorgraph\\tensor_graph.py:715: The name tf.placeholder is deprecated. Please use tf.compat.v1.placeholder instead.\n",
      "\n"
     ]
    },
    {
     "name": "stderr",
     "output_type": "stream",
     "text": [
      "WARNING:tensorflow:From C:\\Users\\Gashaw\\anaconda3\\lib\\site-packages\\deepchem\\models\\tensorgraph\\tensor_graph.py:715: The name tf.placeholder is deprecated. Please use tf.compat.v1.placeholder instead.\n",
      "\n"
     ]
    },
    {
     "name": "stdout",
     "output_type": "stream",
     "text": [
      "WARNING:tensorflow:From C:\\Users\\Gashaw\\anaconda3\\lib\\site-packages\\deepchem\\models\\tensorgraph\\layers.py:2464: The name tf.FIFOQueue is deprecated. Please use tf.queue.FIFOQueue instead.\n",
      "\n"
     ]
    },
    {
     "name": "stderr",
     "output_type": "stream",
     "text": [
      "WARNING:tensorflow:From C:\\Users\\Gashaw\\anaconda3\\lib\\site-packages\\deepchem\\models\\tensorgraph\\layers.py:2464: The name tf.FIFOQueue is deprecated. Please use tf.queue.FIFOQueue instead.\n",
      "\n"
     ]
    },
    {
     "name": "stdout",
     "output_type": "stream",
     "text": [
      "WARNING:tensorflow:From C:\\Users\\Gashaw\\anaconda3\\lib\\site-packages\\deepchem\\models\\tensorgraph\\layers.py:1216: The name tf.placeholder_with_default is deprecated. Please use tf.compat.v1.placeholder_with_default instead.\n",
      "\n"
     ]
    },
    {
     "name": "stderr",
     "output_type": "stream",
     "text": [
      "WARNING:tensorflow:From C:\\Users\\Gashaw\\anaconda3\\lib\\site-packages\\deepchem\\models\\tensorgraph\\layers.py:1216: The name tf.placeholder_with_default is deprecated. Please use tf.compat.v1.placeholder_with_default instead.\n",
      "\n"
     ]
    },
    {
     "name": "stdout",
     "output_type": "stream",
     "text": [
      "WARNING:tensorflow:From C:\\Users\\Gashaw\\anaconda3\\lib\\site-packages\\tensorflow_core\\python\\ops\\resource_variable_ops.py:1630: calling BaseResourceVariable.__init__ (from tensorflow.python.ops.resource_variable_ops) with constraint is deprecated and will be removed in a future version.\n",
      "Instructions for updating:\n",
      "If using Keras pass *_constraint arguments to layers.\n"
     ]
    },
    {
     "name": "stderr",
     "output_type": "stream",
     "text": [
      "WARNING:tensorflow:From C:\\Users\\Gashaw\\anaconda3\\lib\\site-packages\\tensorflow_core\\python\\ops\\resource_variable_ops.py:1630: calling BaseResourceVariable.__init__ (from tensorflow.python.ops.resource_variable_ops) with constraint is deprecated and will be removed in a future version.\n",
      "Instructions for updating:\n",
      "If using Keras pass *_constraint arguments to layers.\n"
     ]
    },
    {
     "name": "stdout",
     "output_type": "stream",
     "text": [
      "WARNING:tensorflow:From C:\\Users\\Gashaw\\anaconda3\\lib\\site-packages\\tensorflow_core\\python\\autograph\\converters\\directives.py:119: The name tf.unsorted_segment_sum is deprecated. Please use tf.math.unsorted_segment_sum instead.\n",
      "\n"
     ]
    },
    {
     "name": "stderr",
     "output_type": "stream",
     "text": [
      "WARNING:tensorflow:From C:\\Users\\Gashaw\\anaconda3\\lib\\site-packages\\tensorflow_core\\python\\autograph\\converters\\directives.py:119: The name tf.unsorted_segment_sum is deprecated. Please use tf.math.unsorted_segment_sum instead.\n",
      "\n"
     ]
    },
    {
     "name": "stdout",
     "output_type": "stream",
     "text": [
      "WARNING:tensorflow:From C:\\Users\\Gashaw\\anaconda3\\lib\\site-packages\\tensorflow_core\\python\\autograph\\converters\\directives.py:119: The name tf.unsorted_segment_max is deprecated. Please use tf.math.unsorted_segment_max instead.\n",
      "\n"
     ]
    },
    {
     "name": "stderr",
     "output_type": "stream",
     "text": [
      "WARNING:tensorflow:From C:\\Users\\Gashaw\\anaconda3\\lib\\site-packages\\tensorflow_core\\python\\autograph\\converters\\directives.py:119: The name tf.unsorted_segment_max is deprecated. Please use tf.math.unsorted_segment_max instead.\n",
      "\n"
     ]
    },
    {
     "name": "stdout",
     "output_type": "stream",
     "text": [
      "WARNING:tensorflow:From C:\\Users\\Gashaw\\anaconda3\\lib\\site-packages\\deepchem\\models\\tensorgraph\\tensor_graph.py:728: The name tf.Session is deprecated. Please use tf.compat.v1.Session instead.\n",
      "\n"
     ]
    },
    {
     "name": "stderr",
     "output_type": "stream",
     "text": [
      "WARNING:tensorflow:From C:\\Users\\Gashaw\\anaconda3\\lib\\site-packages\\deepchem\\models\\tensorgraph\\tensor_graph.py:728: The name tf.Session is deprecated. Please use tf.compat.v1.Session instead.\n",
      "\n"
     ]
    },
    {
     "name": "stdout",
     "output_type": "stream",
     "text": [
      "WARNING:tensorflow:From C:\\Users\\Gashaw\\anaconda3\\lib\\site-packages\\deepchem\\models\\tensorgraph\\optimizers.py:76: The name tf.train.AdamOptimizer is deprecated. Please use tf.compat.v1.train.AdamOptimizer instead.\n",
      "\n"
     ]
    },
    {
     "name": "stderr",
     "output_type": "stream",
     "text": [
      "WARNING:tensorflow:From C:\\Users\\Gashaw\\anaconda3\\lib\\site-packages\\deepchem\\models\\tensorgraph\\optimizers.py:76: The name tf.train.AdamOptimizer is deprecated. Please use tf.compat.v1.train.AdamOptimizer instead.\n",
      "\n"
     ]
    },
    {
     "name": "stdout",
     "output_type": "stream",
     "text": [
      "WARNING:tensorflow:From C:\\Users\\Gashaw\\anaconda3\\lib\\site-packages\\tensorflow_core\\python\\ops\\math_grad.py:424: where (from tensorflow.python.ops.array_ops) is deprecated and will be removed in a future version.\n",
      "Instructions for updating:\n",
      "Use tf.where in 2.0, which has the same broadcast rule as np.where\n"
     ]
    },
    {
     "name": "stderr",
     "output_type": "stream",
     "text": [
      "WARNING:tensorflow:From C:\\Users\\Gashaw\\anaconda3\\lib\\site-packages\\tensorflow_core\\python\\ops\\math_grad.py:424: where (from tensorflow.python.ops.array_ops) is deprecated and will be removed in a future version.\n",
      "Instructions for updating:\n",
      "Use tf.where in 2.0, which has the same broadcast rule as np.where\n",
      "C:\\Users\\Gashaw\\anaconda3\\lib\\site-packages\\tensorflow_core\\python\\framework\\indexed_slices.py:424: UserWarning: Converting sparse IndexedSlices to a dense Tensor of unknown shape. This may consume a large amount of memory.\n",
      "  \"Converting sparse IndexedSlices to a dense Tensor of unknown shape. \"\n",
      "C:\\Users\\Gashaw\\anaconda3\\lib\\site-packages\\tensorflow_core\\python\\framework\\indexed_slices.py:424: UserWarning: Converting sparse IndexedSlices to a dense Tensor of unknown shape. This may consume a large amount of memory.\n",
      "  \"Converting sparse IndexedSlices to a dense Tensor of unknown shape. \"\n",
      "C:\\Users\\Gashaw\\anaconda3\\lib\\site-packages\\tensorflow_core\\python\\framework\\indexed_slices.py:424: UserWarning: Converting sparse IndexedSlices to a dense Tensor of unknown shape. This may consume a large amount of memory.\n",
      "  \"Converting sparse IndexedSlices to a dense Tensor of unknown shape. \"\n"
     ]
    },
    {
     "name": "stdout",
     "output_type": "stream",
     "text": [
      "WARNING:tensorflow:From C:\\Users\\Gashaw\\anaconda3\\lib\\site-packages\\deepchem\\models\\tensorgraph\\tensor_graph.py:1013: The name tf.get_collection is deprecated. Please use tf.compat.v1.get_collection instead.\n",
      "\n"
     ]
    },
    {
     "name": "stderr",
     "output_type": "stream",
     "text": [
      "WARNING:tensorflow:From C:\\Users\\Gashaw\\anaconda3\\lib\\site-packages\\deepchem\\models\\tensorgraph\\tensor_graph.py:1013: The name tf.get_collection is deprecated. Please use tf.compat.v1.get_collection instead.\n",
      "\n"
     ]
    },
    {
     "name": "stdout",
     "output_type": "stream",
     "text": [
      "WARNING:tensorflow:From C:\\Users\\Gashaw\\anaconda3\\lib\\site-packages\\deepchem\\models\\tensorgraph\\tensor_graph.py:1013: The name tf.GraphKeys is deprecated. Please use tf.compat.v1.GraphKeys instead.\n",
      "\n"
     ]
    },
    {
     "name": "stderr",
     "output_type": "stream",
     "text": [
      "WARNING:tensorflow:From C:\\Users\\Gashaw\\anaconda3\\lib\\site-packages\\deepchem\\models\\tensorgraph\\tensor_graph.py:1013: The name tf.GraphKeys is deprecated. Please use tf.compat.v1.GraphKeys instead.\n",
      "\n"
     ]
    },
    {
     "name": "stdout",
     "output_type": "stream",
     "text": [
      "WARNING:tensorflow:From C:\\Users\\Gashaw\\anaconda3\\lib\\site-packages\\deepchem\\models\\tensorgraph\\tensor_graph.py:739: The name tf.global_variables_initializer is deprecated. Please use tf.compat.v1.global_variables_initializer instead.\n",
      "\n"
     ]
    },
    {
     "name": "stderr",
     "output_type": "stream",
     "text": [
      "WARNING:tensorflow:From C:\\Users\\Gashaw\\anaconda3\\lib\\site-packages\\deepchem\\models\\tensorgraph\\tensor_graph.py:739: The name tf.global_variables_initializer is deprecated. Please use tf.compat.v1.global_variables_initializer instead.\n",
      "\n"
     ]
    },
    {
     "name": "stdout",
     "output_type": "stream",
     "text": [
      "WARNING:tensorflow:From C:\\Users\\Gashaw\\anaconda3\\lib\\site-packages\\deepchem\\models\\tensorgraph\\tensor_graph.py:749: The name tf.summary.scalar is deprecated. Please use tf.compat.v1.summary.scalar instead.\n",
      "\n"
     ]
    },
    {
     "name": "stderr",
     "output_type": "stream",
     "text": [
      "WARNING:tensorflow:From C:\\Users\\Gashaw\\anaconda3\\lib\\site-packages\\deepchem\\models\\tensorgraph\\tensor_graph.py:749: The name tf.summary.scalar is deprecated. Please use tf.compat.v1.summary.scalar instead.\n",
      "\n"
     ]
    },
    {
     "data": {
      "text/plain": [
       "18.968220117008478"
      ]
     },
     "execution_count": 9,
     "metadata": {},
     "output_type": "execute_result"
    }
   ],
   "source": [
    "# Fit trained model\n",
    "model.fit(train_dataset, nb_epoch=15)"
   ]
  },
  {
   "cell_type": "code",
   "execution_count": 10,
   "metadata": {},
   "outputs": [
    {
     "name": "stdout",
     "output_type": "stream",
     "text": [
      "Evaluating model\n",
      "computed_metrics: [0.9488291670419079]\n",
      "computed_metrics: [0.8729108905015938]\n",
      "Train scores\n",
      "{'mean-pearson_r2_score': 0.9488291670419079}\n",
      "Validation scores\n",
      "{'mean-pearson_r2_score': 0.8729108905015938}\n"
     ]
    }
   ],
   "source": [
    "print(\"Evaluating model\")\n",
    "train_scores = model.evaluate(train_dataset, [metric], transformers)\n",
    "valid_scores = model.evaluate(valid_dataset, [metric], transformers)\n",
    "\n",
    "print(\"Train scores\")\n",
    "print(train_scores)\n",
    "\n",
    "print(\"Validation scores\")\n",
    "print(valid_scores)"
   ]
  },
  {
   "cell_type": "code",
   "execution_count": 11,
   "metadata": {},
   "outputs": [
    {
     "data": {
      "text/plain": [
       "291"
      ]
     },
     "execution_count": 11,
     "metadata": {},
     "output_type": "execute_result"
    }
   ],
   "source": [
    "predicted_test = model.predict(test_dataset)\n",
    "predicted_test.size"
   ]
  },
  {
   "cell_type": "code",
   "execution_count": 12,
   "metadata": {},
   "outputs": [
    {
     "data": {
      "text/plain": [
       "291"
      ]
     },
     "execution_count": 12,
     "metadata": {},
     "output_type": "execute_result"
    }
   ],
   "source": [
    "true_test = test_dataset.y\n",
    "true_test.size"
   ]
  },
  {
   "cell_type": "code",
   "execution_count": 13,
   "metadata": {},
   "outputs": [
    {
     "data": {
      "text/plain": [
       "291"
      ]
     },
     "execution_count": 13,
     "metadata": {},
     "output_type": "execute_result"
    }
   ],
   "source": [
    "len(test_dataset)"
   ]
  },
  {
   "cell_type": "code",
   "execution_count": 14,
   "metadata": {},
   "outputs": [
    {
     "name": "stdout",
     "output_type": "stream",
     "text": [
      "R2: 0.8678176351544123\n"
     ]
    }
   ],
   "source": [
    "# R^2 (coefficient of determination) regression score function: \n",
    "R2 =r2_score(true_test, predicted_test)\n",
    "print('R2:', R2)"
   ]
  },
  {
   "cell_type": "code",
   "execution_count": 15,
   "metadata": {},
   "outputs": [
    {
     "data": {
      "text/plain": [
       "<matplotlib.legend.Legend at 0x1e1b509ad88>"
      ]
     },
     "execution_count": 15,
     "metadata": {},
     "output_type": "execute_result"
    },
    {
     "data": {
      "image/png": "[encoded data removed]",
      "text/plain": [
       "<Figure size 432x288 with 1 Axes>"
      ]
     },
     "metadata": {
      "needs_background": "light"
     },
     "output_type": "display_data"
    }
   ],
   "source": [
    "sn.regplot(x=predicted_test, y=true_test, line_kws={\"lw\":2,'ls':'--','color':'black',\"alpha\":0.7})\n",
    "plt.xlabel('Predicted Energy gap', color='blue')\n",
    "plt.ylabel('Observed Energy gap', color ='blue')\n",
    "plt.title(\"Graph Convolution\", color='red')\n",
    "plt.grid(alpha=0.2)\n",
    "R2 = mpatches.Patch(label=\"R2={:04.2f}\".format(R2))\n",
    "plt.legend(handles=[R2])"
   ]
  }
 ],
 "metadata": {
  "kernelspec": {
   "display_name": "Python 3",
   "language": "python",
   "name": "python3"
  },
  "language_info": {
   "codemirror_mode": {
    "name": "ipython",
    "version": 3
   },
   "file_extension": ".py",
   "mimetype": "text/x-python",
   "name": "python",
   "nbconvert_exporter": "python",
   "pygments_lexer": "ipython3",
   "version": "3.7.6"
  }
 },
 "nbformat": 4,
 "nbformat_minor": 4
}
