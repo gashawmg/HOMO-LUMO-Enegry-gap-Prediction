{
 "cells": [
  {
   "cell_type": "markdown",
   "metadata": {},
   "source": [
    "HUMO-LUMO energy gap prediction using Graph Convolution from Deepchem graph convolution module   9/20/2020"
   ]
  },
  {
   "cell_type": "code",
   "execution_count": 1,
   "metadata": {},
   "outputs": [],
   "source": [
    "import numpy as np\n",
    "from deepchem.models import GraphConvModel\n",
    "import tensorflow as tf\n",
    "import deepchem as dc\n",
    "#from deepchem.molnet import load_delaney\n",
    "import sklearn\n",
    "from sklearn.metrics import r2_score\n",
    "import seaborn as sn\n",
    "import matplotlib.pyplot as plt\n",
    "import pandas as pd\n",
    "import matplotlib.patches as mpatches\n",
    "import warnings\n",
    "warnings.filterwarnings(\"ignore\")"
   ]
  },
  {
   "cell_type": "code",
   "execution_count": 2,
   "metadata": {},
   "outputs": [
    {
     "data": {
      "text/html": [
       "<div>\n",
       "<style scoped>\n",
       "    .dataframe tbody tr th:only-of-type {\n",
       "        vertical-align: middle;\n",
       "    }\n",
       "\n",
       "    .dataframe tbody tr th {\n",
       "        vertical-align: top;\n",
       "    }\n",
       "\n",
       "    .dataframe thead th {\n",
       "        text-align: right;\n",
       "    }\n",
       "</style>\n",
       "<table border=\"1\" class=\"dataframe\">\n",
       "  <thead>\n",
       "    <tr style=\"text-align: right;\">\n",
       "      <th></th>\n",
       "      <th>SMILES</th>\n",
       "      <th>Energygap</th>\n",
       "    </tr>\n",
       "  </thead>\n",
       "  <tbody>\n",
       "    <tr>\n",
       "      <th>0</th>\n",
       "      <td>Cc1ccc(cc1)C(F)(F)F</td>\n",
       "      <td>197.749421</td>\n",
       "    </tr>\n",
       "    <tr>\n",
       "      <th>1</th>\n",
       "      <td>OC(=O)CCCCl</td>\n",
       "      <td>247.493942</td>\n",
       "    </tr>\n",
       "    <tr>\n",
       "      <th>2</th>\n",
       "      <td>CC(C)(Oc1ccc(CCNC(=O)c2ccc(Cl)cc2)cc1)C(=O)O</td>\n",
       "      <td>164.712327</td>\n",
       "    </tr>\n",
       "    <tr>\n",
       "      <th>3</th>\n",
       "      <td>Nc1ccc(Cl)c(Cl)c1</td>\n",
       "      <td>169.027707</td>\n",
       "    </tr>\n",
       "    <tr>\n",
       "      <th>4</th>\n",
       "      <td>C[C@@H](CCO)CCC=C(C)C</td>\n",
       "      <td>209.569808</td>\n",
       "    </tr>\n",
       "  </tbody>\n",
       "</table>\n",
       "</div>"
      ],
      "text/plain": [
       "                                         SMILES   Energygap\n",
       "0                           Cc1ccc(cc1)C(F)(F)F  197.749421\n",
       "1                                   OC(=O)CCCCl  247.493942\n",
       "2  CC(C)(Oc1ccc(CCNC(=O)c2ccc(Cl)cc2)cc1)C(=O)O  164.712327\n",
       "3                             Nc1ccc(Cl)c(Cl)c1  169.027707\n",
       "4                         C[C@@H](CCO)CCC=C(C)C  209.569808"
      ]
     },
     "execution_count": 2,
     "metadata": {},
     "output_type": "execute_result"
    }
   ],
   "source": [
    "dataset = pd.read_csv(r'D:/Orbital_Energies_input_data.csv')\n",
    "dataset.head()"
   ]
  },
  {
   "cell_type": "code",
   "execution_count": 3,
   "metadata": {},
   "outputs": [],
   "source": [
    "  X, y  = dataset['SMILES'], dataset['Energygap']\n",
    "    "
   ]
  },
  {
   "cell_type": "code",
   "execution_count": 4,
   "metadata": {},
   "outputs": [
    {
     "data": {
      "text/plain": [
       "0       197.749421\n",
       "1       247.493942\n",
       "2       164.712327\n",
       "3       169.027707\n",
       "4       209.569808\n",
       "           ...    \n",
       "2899    168.649319\n",
       "2900    162.928319\n",
       "2901    165.098245\n",
       "2902    167.958431\n",
       "2903    188.369417\n",
       "Name: Energygap, Length: 2904, dtype: float64"
      ]
     },
     "execution_count": 4,
     "metadata": {},
     "output_type": "execute_result"
    }
   ],
   "source": [
    "y"
   ]
  },
  {
   "cell_type": "code",
   "execution_count": 5,
   "metadata": {},
   "outputs": [
    {
     "data": {
      "text/plain": [
       "0                                Cc1ccc(cc1)C(F)(F)F\n",
       "1                                        OC(=O)CCCCl\n",
       "2       CC(C)(Oc1ccc(CCNC(=O)c2ccc(Cl)cc2)cc1)C(=O)O\n",
       "3                                  Nc1ccc(Cl)c(Cl)c1\n",
       "4                              C[C@@H](CCO)CCC=C(C)C\n",
       "                            ...                     \n",
       "2899      C(CP(c1ccccc1)c1ccccc1)P(c1ccccc1)c1ccccc1\n",
       "2900                                 Brc1cccc2sccc12\n",
       "2901                  CCO[C@H]1C=Cc2ccccc2N1C(=O)OCC\n",
       "2902                                   s1ccc2ccccc12\n",
       "2903                                   Cc1cccc(C)c1O\n",
       "Name: SMILES, Length: 2904, dtype: object"
      ]
     },
     "execution_count": 5,
     "metadata": {},
     "output_type": "execute_result"
    }
   ],
   "source": [
    "X"
   ]
  },
  {
   "cell_type": "code",
   "execution_count": 6,
   "metadata": {},
   "outputs": [],
   "source": [
    "dataset_file = \"D:/Orbital_Energies_input_data.csv\""
   ]
  },
  {
   "cell_type": "code",
   "execution_count": 7,
   "metadata": {},
   "outputs": [
    {
     "name": "stdout",
     "output_type": "stream",
     "text": [
      "About to transform data\n"
     ]
    }
   ],
   "source": [
    "tasks = ['Energygap']\n",
    "featurizer = dc.feat.ConvMolFeaturizer()\n",
    "loader = dc.data.CSVLoader(\n",
    "tasks=tasks, feature_field =\"SMILES\", featurizer=featurizer)\n",
    "dataset = loader.create_dataset(dataset_file, shard_size=8192)\n",
    "\n",
    "# Initialize transformers\n",
    "transformers = [\n",
    "dc.trans.NormalizationTransformer(\n",
    "  transform_y=True, dataset=dataset)\n",
    "]\n",
    "\n",
    "print(\"About to transform data\")\n",
    "for transformer in transformers:\n",
    "    dataset = transformer.transform(dataset)\n",
    "\n",
    "splitter = dc.splits.IndexSplitter()\n",
    "train_dataset, valid_dataset, test_dataset = splitter.train_valid_test_split(dataset)"
   ]
  },
  {
   "cell_type": "code",
   "execution_count": 8,
   "metadata": {},
   "outputs": [],
   "source": [
    "# Fit models\n",
    "metric = dc.metrics.Metric(dc.metrics.pearson_r2_score, np.mean)\n",
    "# Number of features on conv-mols\n",
    "n_feat = 75\n",
    "# Batch size of models\n",
    "batch_size = 128\n",
    "model = GraphConvModel(\n",
    "    len(tasks), batch_size=batch_size, mode='regression')"
   ]
  },
  {
   "cell_type": "code",
   "execution_count": 9,
   "metadata": {},
   "outputs": [
    {
     "data": {
      "text/plain": [
       "0.03058168411254883"
      ]
     },
     "execution_count": 9,
     "metadata": {},
     "output_type": "execute_result"
    }
   ],
   "source": [
    "# Fit trained model\n",
    "model.fit(train_dataset, nb_epoch=50)"
   ]
  },
  {
   "cell_type": "code",
   "execution_count": 10,
   "metadata": {},
   "outputs": [
    {
     "name": "stdout",
     "output_type": "stream",
     "text": [
      "Evaluating model\n",
      "Train scores\n",
      "{'mean-pearson_r2_score': 0.9837543125921774}\n",
      "Validation scores\n",
      "{'mean-pearson_r2_score': 0.8340163885127928}\n"
     ]
    }
   ],
   "source": [
    "print(\"Evaluating model\")\n",
    "train_scores = model.evaluate(train_dataset, [metric], transformers)\n",
    "valid_scores = model.evaluate(valid_dataset, [metric], transformers)\n",
    "\n",
    "print(\"Train scores\")\n",
    "print(train_scores)\n",
    "\n",
    "print(\"Validation scores\")\n",
    "print(valid_scores)"
   ]
  },
  {
   "cell_type": "code",
   "execution_count": 11,
   "metadata": {},
   "outputs": [
    {
     "data": {
      "text/plain": [
       "291"
      ]
     },
     "execution_count": 11,
     "metadata": {},
     "output_type": "execute_result"
    }
   ],
   "source": [
    "predicted_test = model.predict(test_dataset)\n",
    "predicted_test.size"
   ]
  },
  {
   "cell_type": "code",
   "execution_count": 12,
   "metadata": {},
   "outputs": [
    {
     "data": {
      "text/plain": [
       "291"
      ]
     },
     "execution_count": 12,
     "metadata": {},
     "output_type": "execute_result"
    }
   ],
   "source": [
    "true_test = test_dataset.y\n",
    "true_test.size"
   ]
  },
  {
   "cell_type": "code",
   "execution_count": 13,
   "metadata": {},
   "outputs": [
    {
     "data": {
      "text/plain": [
       "291"
      ]
     },
     "execution_count": 13,
     "metadata": {},
     "output_type": "execute_result"
    }
   ],
   "source": [
    "len(test_dataset)"
   ]
  },
  {
   "cell_type": "code",
   "execution_count": 14,
   "metadata": {},
   "outputs": [
    {
     "name": "stdout",
     "output_type": "stream",
     "text": [
      "R2: 0.8435684312336118\n"
     ]
    }
   ],
   "source": [
    "# R^2 (coefficient of determination) regression score function: \n",
    "R2 =r2_score(true_test, predicted_test)\n",
    "print('R2:', R2)"
   ]
  },
  {
   "cell_type": "code",
   "execution_count": 15,
   "metadata": {},
   "outputs": [
    {
     "data": {
      "text/plain": [
       "<matplotlib.legend.Legend at 0x1d5b0e67808>"
      ]
     },
     "execution_count": 15,
     "metadata": {},
     "output_type": "execute_result"
    },
    {
     "data": {
      "image/png": "[encoded data removed]",
      "text/plain": [
       "<Figure size 432x288 with 1 Axes>"
      ]
     },
     "metadata": {
      "needs_background": "light"
     },
     "output_type": "display_data"
    }
   ],
   "source": [
    "sn.regplot(x=predicted_test, y=true_test, line_kws={\"lw\":2,'ls':'--','color':'black',\"alpha\":0.7})\n",
    "plt.xlabel('Predicted Energy gap', color='blue')\n",
    "plt.ylabel('Observed Energy gap', color ='blue')\n",
    "plt.title(\"Graph Convolution\", color='red')\n",
    "plt.grid(alpha=0.2)\n",
    "R2 = mpatches.Patch(label=\"R2={:04.2f}\".format(R2))\n",
    "plt.legend(handles=[R2])"
   ]
  }
 ],
 "metadata": {
  "kernelspec": {
   "display_name": "Python 3 (ipykernel)",
   "language": "python",
   "name": "python3"
  },
  "language_info": {
   "codemirror_mode": {
    "name": "ipython",
    "version": 3
   },
   "file_extension": ".py",
   "mimetype": "text/x-python",
   "name": "python",
   "nbconvert_exporter": "python",
   "pygments_lexer": "ipython3",
   "version": "3.7.12"
  }
 },
 "nbformat": 4,
 "nbformat_minor": 4
}
